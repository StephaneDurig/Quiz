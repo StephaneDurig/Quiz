{
 "cells": [
  {
   "cell_type": "code",
   "execution_count": null,
   "metadata": {},
   "outputs": [],
   "source": [
    "# 1-Définition des variables\n",
    "\n",
    "Questionnaire={\n",
    "    \"Q1\":\"Quel est mon prénom ?\",\"R1\":\"stephane\",\n",
    "    \"Q2\":\"Quel est mon nom de famille ?\",\"R2\":\"durig\",\n",
    "    \"Q3\":\"Quel est le nom du patron de Tesla ?\",\"R3\":\"elon musk\",\n",
    "    \"Q4\":\"Quelle est la couleur du cheval blanc d'Henry IV ?\", \"R4\":\"blanc\"\n",
    "}\n",
    "\n",
    "lives=3"
   ]
  },
  {
   "cell_type": "code",
   "execution_count": null,
   "metadata": {},
   "outputs": [],
   "source": [
    "# 2-Déroulement du code\n",
    "\n",
    "i=1\n",
    "nbQuestions=len(Questionnaire)/2\n",
    "\n",
    "print(\"Here you have our quiz !\")\n",
    "print(\"you have 3 lives\")\n",
    "print(\"------------------------\")\n",
    "print()\n",
    "print()\n",
    "\n",
    "while i <= nbQuestions:\n",
    "\n",
    "    if lives==0:\n",
    "        break\n",
    "\n",
    "    print(f\"Question {i} :\")\n",
    "    print(\" \"+Questionnaire[\"Q\"+i.__str__()])\n",
    "    R=input(Questionnaire[\"Q\"+i.__str__()])\n",
    "    print(f\"Your answer : {R}\")\n",
    "\n",
    "    while R.lower() != Questionnaire[\"R\"+i.__str__()]:\n",
    "        lives -= 1\n",
    "        print(f\"Sorry, you have {lives} chances left\")\n",
    "\n",
    "        if lives==0:\n",
    "            print()\n",
    "            print(\"Oh no, you lost the quiz...\")\n",
    "            break\n",
    "\n",
    "        R=input(Questionnaire[\"Q\"+i.__str__()])\n",
    "        print(f\"Your answer : {R}\")\n",
    "\n",
    "    if lives==0:\n",
    "        break\n",
    "\n",
    "    print(\"Good job! This is the right answer\")\n",
    "    print()\n",
    "    i+=1\n",
    "\n",
    "if lives>0:\n",
    "    print(\"Well done! You are the quiz winner\")"
   ]
  }
 ],
 "metadata": {
  "language_info": {
   "name": "python"
  },
  "orig_nbformat": 4
 },
 "nbformat": 4,
 "nbformat_minor": 2
}
